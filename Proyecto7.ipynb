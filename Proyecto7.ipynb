{
 "cells": [
  {
   "cell_type": "markdown",
   "metadata": {},
   "source": [
    "# Descripción\n",
    "\n",
    "Estás trabajando como analista para Zuber, una nueva empresa de viajes compartidos que se está lanzando en Chicago. Tu tarea es encontrar patrones en la información disponible. Quieres comprender las preferencias de los pasajeros y el impacto de los factores externos en los viajes.\n",
    "\n",
    "Al trabajar con una base de datos, analizarás los datos de los competidores y probarás una hipótesis sobre el impacto del clima en la frecuencia de los viajes."
   ]
  },
  {
   "cell_type": "markdown",
   "metadata": {},
   "source": [
    " Análisis exploratorio de datos (Python)"
   ]
  },
  {
   "cell_type": "code",
   "execution_count": 20,
   "metadata": {},
   "outputs": [],
   "source": [
    "#importando librerias\n",
    "\n",
    "import pandas as pd\n",
    "from matplotlib import pyplot as plt\n",
    "from scipy import stats as st\n",
    "import numpy as np\n"
   ]
  },
  {
   "cell_type": "code",
   "execution_count": 21,
   "metadata": {},
   "outputs": [],
   "source": [
    "#Lectura de Datos\n",
    "data1=pd.read_csv(\"/datasets/project_sql_result_01.csv\")\n",
    "data2=pd.read_csv(\"/datasets/project_sql_result_04.csv\")\n"
   ]
  },
  {
   "cell_type": "code",
   "execution_count": 22,
   "metadata": {},
   "outputs": [
    {
     "name": "stdout",
     "output_type": "stream",
     "text": [
      "<class 'pandas.core.frame.DataFrame'>\n",
      "Int64Index: 64 entries, 0 to 63\n",
      "Data columns (total 2 columns):\n",
      " #   Column        Non-Null Count  Dtype \n",
      "---  ------        --------------  ----- \n",
      " 0   company_name  64 non-null     object\n",
      " 1   trips_amount  64 non-null     int64 \n",
      "dtypes: int64(1), object(1)\n",
      "memory usage: 1.5+ KB\n",
      "None\n",
      "                               company_name  trips_amount\n",
      "41                     Chicago Star Taxicab            29\n",
      "12                Dispatch Taxi Affiliation          3355\n",
      "14  Patriot Taxi Dba Peace Taxi Association          2235\n",
      "47            4615 - 83503 Tyrone Henderson            21\n",
      "30                               Setare Inc           230\n",
      "46          3620 - 52292 David K. Cab Corp.            21\n",
      "20                             Checker Taxi          1486\n",
      "3                                Yellow Cab          9888\n",
      "55                6057 - 24657 Richard Addo            13\n",
      "28                              5 Star Taxi           310\n"
     ]
    }
   ],
   "source": [
    "data1=data1.drop_duplicates()\n",
    "print(data1.info())\n",
    "print(data1.sample(10))"
   ]
  },
  {
   "cell_type": "code",
   "execution_count": 23,
   "metadata": {},
   "outputs": [
    {
     "name": "stdout",
     "output_type": "stream",
     "text": [
      "<class 'pandas.core.frame.DataFrame'>\n",
      "RangeIndex: 94 entries, 0 to 93\n",
      "Data columns (total 2 columns):\n",
      " #   Column                 Non-Null Count  Dtype  \n",
      "---  ------                 --------------  -----  \n",
      " 0   dropoff_location_name  94 non-null     object \n",
      " 1   average_trips          94 non-null     float64\n",
      "dtypes: float64(1), object(1)\n",
      "memory usage: 1.6+ KB\n",
      "None\n",
      "   dropoff_location_name  average_trips\n",
      "44        Belmont Cragin      59.033333\n",
      "33          Portage Park     119.733333\n",
      "1            River North    9523.666667\n",
      "67        Auburn Gresham      15.166667\n",
      "5              Lake View    2420.966667\n",
      "8             Gold Coast    1364.233333\n",
      "68              Clearing      14.500000\n",
      "83           Avalon Park       6.966667\n",
      "69              Roseland      14.366667\n",
      "24            West Ridge     298.333333\n"
     ]
    }
   ],
   "source": [
    "print(data2.info())\n",
    "print(data2.sample(10))\n",
    "data2=data2.drop_duplicates()"
   ]
  },
  {
   "cell_type": "code",
   "execution_count": 24,
   "metadata": {},
   "outputs": [
    {
     "data": {
      "text/plain": [
       "array(['Flash Cab', 'Taxi Affiliation Services', 'Medallion Leasing',\n",
       "       'Yellow Cab', 'Taxi Affiliation Service Yellow',\n",
       "       'Chicago Carriage Cab Corp', 'City Service', 'Sun Taxi',\n",
       "       'Star North Management LLC', 'Blue Ribbon Taxi Association Inc.',\n",
       "       'Choice Taxi Association', 'Globe Taxi',\n",
       "       'Dispatch Taxi Affiliation', 'Nova Taxi Affiliation Llc',\n",
       "       'Patriot Taxi Dba Peace Taxi Association',\n",
       "       'Checker Taxi Affiliation', 'Blue Diamond',\n",
       "       'Chicago Medallion Management', '24 Seven Taxi',\n",
       "       'Chicago Medallion Leasing INC', 'Checker Taxi', 'American United',\n",
       "       'Chicago Independents', 'KOAM Taxi Association', 'Chicago Taxicab',\n",
       "       'Top Cab Affiliation', 'Gold Coast Taxi',\n",
       "       'Service Taxi Association', '5 Star Taxi', '303 Taxi',\n",
       "       'Setare Inc', 'American United Taxi Affiliation', 'Leonard Cab Co',\n",
       "       'Metro Jet Taxi A', 'Norshore Cab', '6742 - 83735 Tasha Ride Inc',\n",
       "       '3591 - 63480 Chuks Cab', '1469 - 64126 Omar Jada',\n",
       "       '6743 - 78771 Luhak Corp', '0118 - 42111 Godfrey S. Awir',\n",
       "       '6574 - Babylon Express Inc.', 'Chicago Star Taxicab',\n",
       "       '1085 - 72312 N and W Cab Co', '2809 - 95474 C & D Cab Co Inc.',\n",
       "       '2092 - 61288 Sbeih Company', '3011 - 66308 JBL Cab Inc.',\n",
       "       '3620 - 52292 David K. Cab Corp.', '4615 - 83503 Tyrone Henderson',\n",
       "       '3623 - 72222 Arrington Enterprises', '5074 - 54002 Ahzmi Inc',\n",
       "       '2823 - 73307 Lee Express Inc', '4623 - 27290 Jay Kim',\n",
       "       '3721 - Santamaria Express', '5006 - 39261 Salifu Bawa',\n",
       "       '2192 - 73487 Zeymane Corp', '6057 - 24657 Richard Addo',\n",
       "       '5997 - 65283 AW Services Inc.', 'Metro Group',\n",
       "       '5062 - 34841 Sam Mestas', '4053 - 40193 Adwar H. Nikola',\n",
       "       '2733 - 74600 Benny Jona', '5874 - 73628 Sergey Cab Corp.',\n",
       "       '2241 - 44667 - Felman Corp', '3556 - 36214 RC Andrews Cab'],\n",
       "      dtype=object)"
      ]
     },
     "execution_count": 24,
     "metadata": {},
     "output_type": "execute_result"
    }
   ],
   "source": [
    "data1[\"company_name\"].unique()"
   ]
  },
  {
   "cell_type": "markdown",
   "metadata": {},
   "source": [
    "Los tipos de datos de ambas tablas son correctos, no valore nulos, ni duplicados."
   ]
  },
  {
   "cell_type": "markdown",
   "metadata": {},
   "source": [
    "Identificar los 10 principales barrios en términos de finalización del recorrido"
   ]
  },
  {
   "cell_type": "code",
   "execution_count": 25,
   "metadata": {},
   "outputs": [
    {
     "name": "stdout",
     "output_type": "stream",
     "text": [
      "  dropoff_location_name  average_trips\n",
      "0                  Loop   10727.466667\n",
      "1           River North    9523.666667\n",
      "2         Streeterville    6664.666667\n",
      "3             West Loop    5163.666667\n",
      "4                O'Hare    2546.900000\n",
      "5             Lake View    2420.966667\n",
      "6            Grant Park    2068.533333\n",
      "7         Museum Campus    1510.000000\n",
      "8            Gold Coast    1364.233333\n",
      "9    Sheffield & DePaul    1259.766667\n"
     ]
    }
   ],
   "source": [
    "data2=data2.sort_values(by=\"average_trips\",ascending=False)\n",
    "print(data2.head(10))\n",
    "data2=data2[0:9]"
   ]
  },
  {
   "cell_type": "code",
   "execution_count": 26,
   "metadata": {},
   "outputs": [],
   "source": [
    "import matplotlib.pyplot as plt\n",
    "\n",
    "def diagrama_pareto(data, frecuencia, categoria):\n",
    "    # Ordenar data\n",
    "    data.sort_values(by=frecuencia)\n",
    "\n",
    "    # Calcular la contribución acumulativo\n",
    "    total = sum(data[frecuencia])\n",
    "    porcentajes = [(frecuencia / total) *\n",
    "                   100 for frecuencia in data[frecuencia]]\n",
    "    porcentajes_acumulativos = [sum(porcentajes[:i+1])\n",
    "                                for i in range(len(porcentajes))]\n",
    "    \n",
    "    # Modificar el tamaño del gráfico\n",
    "    plt.figure(figsize=(10, 8))  # 10 pulgadas de ancho, 6 pulgadas de alto\n",
    "   \n",
    "\n",
    "    # Crear el gráfico de Pareto\n",
    "    fig, ax1 = plt.subplots()\n",
    "    # Gráfico de barras\n",
    "    ax1.bar(data[categoria], data[frecuencia], color='b',width=0.5)\n",
    "    ax1.set_ylabel('Frecuencia', color='b')\n",
    "    ax1.set_xticklabels(data[categoria], rotation=90)\n",
    "    # Crear el eje secundario para la línea acumulativa\n",
    "    ax2 = ax1.twinx()\n",
    "    ax2.plot(data[categoria], porcentajes_acumulativos,\n",
    "             color='r', marker='o', linestyle='-')\n",
    "    ax2.set_ylabel('Porcentaje acumulado (%)', color='r')\n",
    "    # Etiquetas y título\n",
    "    \n",
    "    plt.title('Gráfico de Pareto')\n",
    "    plt.grid(True)\n",
    "    # Mostrar el gráfico\n",
    "    plt.show()\n",
    "\n",
    "   "
   ]
  },
  {
   "cell_type": "code",
   "execution_count": 27,
   "metadata": {},
   "outputs": [
    {
     "name": "stderr",
     "output_type": "stream",
     "text": [
      "/tmp/ipykernel_27/2037836544.py:23: UserWarning: FixedFormatter should only be used together with FixedLocator\n",
      "  ax1.set_xticklabels(data[categoria], rotation=90)\n"
     ]
    },
    {
     "data": {
      "text/plain": [
       "<Figure size 720x576 with 0 Axes>"
      ]
     },
     "metadata": {},
     "output_type": "display_data"
    },
    {
     "data": {
      "image/png": "[encoded data removed]",
      "text/plain": [
       "<Figure size 432x288 with 2 Axes>"
      ]
     },
     "metadata": {
      "needs_background": "light"
     },
     "output_type": "display_data"
    }
   ],
   "source": [
    " diagrama_pareto(data2,\"average_trips\", \"dropoff_location_name\")"
   ]
  },
  {
   "cell_type": "markdown",
   "metadata": {},
   "source": [
    "Empresas de taxis y número de viajes"
   ]
  },
  {
   "cell_type": "code",
   "execution_count": 28,
   "metadata": {},
   "outputs": [
    {
     "name": "stdout",
     "output_type": "stream",
     "text": [
      "                        company_name  trips_amount\n",
      "0                          Flash Cab         19558\n",
      "1          Taxi Affiliation Services         11422\n",
      "2                  Medallion Leasing         10367\n",
      "3                         Yellow Cab          9888\n",
      "4    Taxi Affiliation Service Yellow          9299\n",
      "5          Chicago Carriage Cab Corp          9181\n",
      "6                       City Service          8448\n",
      "7                           Sun Taxi          7701\n",
      "8          Star North Management LLC          7455\n",
      "9  Blue Ribbon Taxi Association Inc.          5953\n"
     ]
    }
   ],
   "source": [
    "data1=data1.sort_values(by=\"trips_amount\",ascending=False)\n",
    "print(data1.head(10))\n",
    "data1=data1[0:9]"
   ]
  },
  {
   "cell_type": "code",
   "execution_count": 29,
   "metadata": {},
   "outputs": [
    {
     "name": "stderr",
     "output_type": "stream",
     "text": [
      "/tmp/ipykernel_27/2037836544.py:23: UserWarning: FixedFormatter should only be used together with FixedLocator\n",
      "  ax1.set_xticklabels(data[categoria], rotation=90)\n"
     ]
    },
    {
     "data": {
      "text/plain": [
       "<Figure size 720x576 with 0 Axes>"
      ]
     },
     "metadata": {},
     "output_type": "display_data"
    },
    {
     "data": {
      "image/png": "[encoded data removed]",
      "text/plain": [
       "<Figure size 432x288 with 2 Axes>"
      ]
     },
     "metadata": {
      "needs_background": "light"
     },
     "output_type": "display_data"
    }
   ],
   "source": [
    " diagrama_pareto(data1,\"trips_amount\", \"company_name\")"
   ]
  },
  {
   "cell_type": "markdown",
   "metadata": {},
   "source": [
    "Los destinos con mayor frecuencia fueron  Loop,River North,Streeterville y West Loop.\n",
    "La compañia con el mayor numero de viajes fue Flash Cab."
   ]
  },
  {
   "cell_type": "markdown",
   "metadata": {},
   "source": [
    "Paso 5. Prueba de hipótesis (Python)"
   ]
  },
  {
   "cell_type": "code",
   "execution_count": 30,
   "metadata": {},
   "outputs": [
    {
     "data": {
      "text/html": [
       "<div>\n",
       "<style scoped>\n",
       "    .dataframe tbody tr th:only-of-type {\n",
       "        vertical-align: middle;\n",
       "    }\n",
       "\n",
       "    .dataframe tbody tr th {\n",
       "        vertical-align: top;\n",
       "    }\n",
       "\n",
       "    .dataframe thead th {\n",
       "        text-align: right;\n",
       "    }\n",
       "</style>\n",
       "<table border=\"1\" class=\"dataframe\">\n",
       "  <thead>\n",
       "    <tr style=\"text-align: right;\">\n",
       "      <th></th>\n",
       "      <th>start_ts</th>\n",
       "      <th>weather_conditions</th>\n",
       "      <th>duration_seconds</th>\n",
       "    </tr>\n",
       "  </thead>\n",
       "  <tbody>\n",
       "    <tr>\n",
       "      <th>229</th>\n",
       "      <td>2017-11-11 15:00:00</td>\n",
       "      <td>Good</td>\n",
       "      <td>2160.0</td>\n",
       "    </tr>\n",
       "    <tr>\n",
       "      <th>853</th>\n",
       "      <td>2017-11-11 08:00:00</td>\n",
       "      <td>Good</td>\n",
       "      <td>1380.0</td>\n",
       "    </tr>\n",
       "    <tr>\n",
       "      <th>1003</th>\n",
       "      <td>2017-11-18 08:00:00</td>\n",
       "      <td>Bad</td>\n",
       "      <td>1483.0</td>\n",
       "    </tr>\n",
       "    <tr>\n",
       "      <th>180</th>\n",
       "      <td>2017-11-04 16:00:00</td>\n",
       "      <td>Bad</td>\n",
       "      <td>3270.0</td>\n",
       "    </tr>\n",
       "    <tr>\n",
       "      <th>903</th>\n",
       "      <td>2017-11-11 13:00:00</td>\n",
       "      <td>Good</td>\n",
       "      <td>2148.0</td>\n",
       "    </tr>\n",
       "  </tbody>\n",
       "</table>\n",
       "</div>"
      ],
      "text/plain": [
       "                 start_ts weather_conditions  duration_seconds\n",
       "229   2017-11-11 15:00:00               Good            2160.0\n",
       "853   2017-11-11 08:00:00               Good            1380.0\n",
       "1003  2017-11-18 08:00:00                Bad            1483.0\n",
       "180   2017-11-04 16:00:00                Bad            3270.0\n",
       "903   2017-11-11 13:00:00               Good            2148.0"
      ]
     },
     "execution_count": 30,
     "metadata": {},
     "output_type": "execute_result"
    }
   ],
   "source": [
    "data3=pd.read_csv(\"/datasets/project_sql_result_07.csv\")\n",
    "data3.sample(5)"
   ]
  },
  {
   "cell_type": "code",
   "execution_count": 31,
   "metadata": {},
   "outputs": [
    {
     "name": "stdout",
     "output_type": "stream",
     "text": [
      "<class 'pandas.core.frame.DataFrame'>\n",
      "RangeIndex: 1068 entries, 0 to 1067\n",
      "Data columns (total 3 columns):\n",
      " #   Column              Non-Null Count  Dtype  \n",
      "---  ------              --------------  -----  \n",
      " 0   start_ts            1068 non-null   object \n",
      " 1   weather_conditions  1068 non-null   object \n",
      " 2   duration_seconds    1068 non-null   float64\n",
      "dtypes: float64(1), object(2)\n",
      "memory usage: 25.2+ KB\n"
     ]
    }
   ],
   "source": [
    "data3.info()"
   ]
  },
  {
   "cell_type": "code",
   "execution_count": 32,
   "metadata": {},
   "outputs": [
    {
     "name": "stdout",
     "output_type": "stream",
     "text": [
      "0       Saturday\n",
      "1       Saturday\n",
      "2       Saturday\n",
      "3       Saturday\n",
      "4       Saturday\n",
      "          ...   \n",
      "1063    Saturday\n",
      "1064    Saturday\n",
      "1065    Saturday\n",
      "1066    Saturday\n",
      "1067    Saturday\n",
      "Name: start_ts, Length: 1068, dtype: object\n",
      "['Saturday']\n"
     ]
    }
   ],
   "source": [
    "data3[\"start_ts\"] =pd.to_datetime(data3[\"start_ts\"],format='%Y-%m-%dT').dt.day_name()\n",
    "print(data3[\"start_ts\"])\n",
    "print(data3[\"start_ts\"].unique())"
   ]
  },
  {
   "cell_type": "code",
   "execution_count": 33,
   "metadata": {},
   "outputs": [],
   "source": [
    "# separando muestras\n",
    "\n",
    "data_a= data3[data3[\"weather_conditions\"]==\"Bad\"][\"duration_seconds\"]\n",
    "\n",
    "data_b=data3[~(data3[\"weather_conditions\"]==\"Bad\")][\"duration_seconds\"]\n",
    "\n"
   ]
  },
  {
   "cell_type": "markdown",
   "metadata": {},
   "source": [
    "Revisando si cumplen con ser distribuciones normales:"
   ]
  },
  {
   "cell_type": "code",
   "execution_count": 34,
   "metadata": {},
   "outputs": [
    {
     "data": {
      "text/plain": [
       "(array([ 2., 14., 28., 21., 48., 41., 22.,  3.,  0.,  1.]),\n",
       " array([ 480.,  930., 1380., 1830., 2280., 2730., 3180., 3630., 4080.,\n",
       "        4530., 4980.]),\n",
       " <BarContainer object of 10 artists>)"
      ]
     },
     "execution_count": 34,
     "metadata": {},
     "output_type": "execute_result"
    },
    {
     "data": {
      "image/png": "[encoded data removed]",
      "text/plain": [
       "<Figure size 432x288 with 1 Axes>"
      ]
     },
     "metadata": {
      "needs_background": "light"
     },
     "output_type": "display_data"
    }
   ],
   "source": [
    "plt.hist(data_a)"
   ]
  },
  {
   "cell_type": "code",
   "execution_count": 35,
   "metadata": {},
   "outputs": [
    {
     "data": {
      "text/plain": [
       "(array([  8., 287., 283., 211.,  86.,   9.,   2.,   0.,   1.,   1.]),\n",
       " array([   0.,  744., 1488., 2232., 2976., 3720., 4464., 5208., 5952.,\n",
       "        6696., 7440.]),\n",
       " <BarContainer object of 10 artists>)"
      ]
     },
     "execution_count": 35,
     "metadata": {},
     "output_type": "execute_result"
    },
    {
     "data": {
      "image/png": "[encoded data removed]",
      "text/plain": [
       "<Figure size 432x288 with 1 Axes>"
      ]
     },
     "metadata": {
      "needs_background": "light"
     },
     "output_type": "display_data"
    }
   ],
   "source": [
    "plt.hist(data_b)"
   ]
  },
  {
   "cell_type": "code",
   "execution_count": 36,
   "metadata": {},
   "outputs": [
    {
     "name": "stdout",
     "output_type": "stream",
     "text": [
      "La media de  es de de los viajes desde el Loop hasta el Aeropuerto Internacional O'Hare en los sábados lluviosos es de 2427.2055555555557 y la varianza es 517403.56330246915\n",
      "La media de  es de de los viajes desde el Loop hasta el Aeropuerto Internacional O'Hare en los sábados no lluviosos es de 1999.6756756756756 y la varianza es 575732.9308497686\n"
     ]
    }
   ],
   "source": [
    "# Calculando media y desviación stándar \n",
    "\n",
    "\n",
    "media_a = np.mean(data_a)\n",
    "var_a = np.var(data_a)\n",
    "\n",
    "\n",
    "media_b = np.mean(data_b)\n",
    "var_b = np.var(data_b)\n",
    "\n",
    "print(f\"La media de  es de de los viajes desde el Loop hasta el Aeropuerto Internacional O'Hare en los sábados lluviosos es de {media_a} y la varianza es {var_a}\")\n",
    "print(f\"La media de  es de de los viajes desde el Loop hasta el Aeropuerto Internacional O'Hare en los sábados no lluviosos es de {media_b} y la varianza es {var_b}\")\n"
   ]
  },
  {
   "cell_type": "markdown",
   "metadata": {},
   "source": [
    "Prueba la hipótesis:"
   ]
  },
  {
   "cell_type": "markdown",
   "metadata": {},
   "source": [
    "HO=\"La duración promedio de los viajes desde el Loop hasta el Aeropuerto Internacional O'Hare cambia los sábados lluviosos\".\n",
    "\n",
    "ma<> mb\n",
    "\n",
    "H1=\"La duración promedio de los viajes desde el Loop hasta el Aeropuerto Internacional O'Hare no cambia los sábados lluviosos\".\n",
    "\n",
    "ma<> mb"
   ]
  },
  {
   "cell_type": "markdown",
   "metadata": {},
   "source": [
    "Se considera la prueba de t student ya que son muestras independientes y cumplen distribucione normales."
   ]
  },
  {
   "cell_type": "code",
   "execution_count": 121,
   "metadata": {},
   "outputs": [
    {
     "name": "stdout",
     "output_type": "stream",
     "text": [
      "valor p: 6.738994326108734e-12\n",
      "Rechazamos la hipótesis nula. Hay suficiente evidencia para concluir que las medias son diferentes.\n"
     ]
    }
   ],
   "source": [
    "alpha = 0.05\n",
    "\n",
    "results = st.ttest_ind(data_a, data_b, equal_var=False)\n",
    "\n",
    "print('valor p:', results.pvalue)\n",
    "\n",
    "if results.pvalue < alpha:\n",
    "    print(\"Rechazamos la hipótesis nula. Hay suficiente evidencia para concluir que las medias son diferentes.\")\n",
    "else:\n",
    "    print(\"No podemos rechazar la hipótesis nula. No hay suficiente evidencia para concluir que las medias son diferentes.\")"
   ]
  },
  {
   "cell_type": "markdown",
   "metadata": {},
   "source": [
    "En Conclusión, la condición climática en el día del viaje influye significativamente en el tiempo promedio de viaje."
   ]
  },
  {
   "cell_type": "markdown",
   "metadata": {},
   "source": [
    "<div class=\"alert alert-block alert-success\">\n",
    "<b>Reviewer's comment</b> <a class=\"tocSkip\"></a>\n",
    "\n",
    "¡Muy bien!\n",
    "\n",
    "Gracias por atender los comentarios. Puedo aprobar tu proyecto.\n",
    "    \n",
    "Saludos.\n",
    "</div>"
   ]
  }
 ],
 "metadata": {
  "kernelspec": {
   "display_name": "Python 3 (ipykernel)",
   "language": "python",
   "name": "python3"
  },
  "language_info": {
   "codemirror_mode": {
    "name": "ipython",
    "version": 3
   },
   "file_extension": ".py",
   "mimetype": "text/x-python",
   "name": "python",
   "nbconvert_exporter": "python",
   "pygments_lexer": "ipython3",
   "version": "3.9.5"
  },
  "toc": {
   "base_numbering": 1,
   "nav_menu": {},
   "number_sections": true,
   "sideBar": true,
   "skip_h1_title": true,
   "title_cell": "Table of Contents",
   "title_sidebar": "Contents",
   "toc_cell": false,
   "toc_position": {},
   "toc_section_display": true,
   "toc_window_display": false
  }
 },
 "nbformat": 4,
 "nbformat_minor": 2
}
